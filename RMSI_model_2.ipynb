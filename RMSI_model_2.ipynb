{
  "nbformat": 4,
  "nbformat_minor": 0,
  "metadata": {
    "colab": {
      "provenance": [],
      "gpuType": "A100"
    },
    "kernelspec": {
      "name": "python3",
      "display_name": "Python 3"
    },
    "language_info": {
      "name": "python"
    },
    "widgets": {
      "application/vnd.jupyter.widget-state+json": {
        "35721beefd024d638c03f8578a2127dd": {
          "model_module": "@jupyter-widgets/controls",
          "model_name": "HBoxModel",
          "model_module_version": "1.5.0",
          "state": {
            "_dom_classes": [],
            "_model_module": "@jupyter-widgets/controls",
            "_model_module_version": "1.5.0",
            "_model_name": "HBoxModel",
            "_view_count": null,
            "_view_module": "@jupyter-widgets/controls",
            "_view_module_version": "1.5.0",
            "_view_name": "HBoxView",
            "box_style": "",
            "children": [
              "IPY_MODEL_cb1c736954e64000bea85188cf3f5cb8",
              "IPY_MODEL_17ca28f545df4f0f83e9d8b25f1a1f5b",
              "IPY_MODEL_b06482dd37034e9eb9e6d8de0de0ff65"
            ],
            "layout": "IPY_MODEL_a69578ce8ce5430691532c7ca15b3a79"
          }
        },
        "cb1c736954e64000bea85188cf3f5cb8": {
          "model_module": "@jupyter-widgets/controls",
          "model_name": "HTMLModel",
          "model_module_version": "1.5.0",
          "state": {
            "_dom_classes": [],
            "_model_module": "@jupyter-widgets/controls",
            "_model_module_version": "1.5.0",
            "_model_name": "HTMLModel",
            "_view_count": null,
            "_view_module": "@jupyter-widgets/controls",
            "_view_module_version": "1.5.0",
            "_view_name": "HTMLView",
            "description": "",
            "description_tooltip": null,
            "layout": "IPY_MODEL_4ca7f65361754deb9d1190b9d29f5289",
            "placeholder": "​",
            "style": "IPY_MODEL_36a9c7264434480a8ec7c8c8de098a57",
            "value": "100%"
          }
        },
        "17ca28f545df4f0f83e9d8b25f1a1f5b": {
          "model_module": "@jupyter-widgets/controls",
          "model_name": "FloatProgressModel",
          "model_module_version": "1.5.0",
          "state": {
            "_dom_classes": [],
            "_model_module": "@jupyter-widgets/controls",
            "_model_module_version": "1.5.0",
            "_model_name": "FloatProgressModel",
            "_view_count": null,
            "_view_module": "@jupyter-widgets/controls",
            "_view_module_version": "1.5.0",
            "_view_name": "ProgressView",
            "bar_style": "success",
            "description": "",
            "description_tooltip": null,
            "layout": "IPY_MODEL_6acbfbbe32024d8683656f8032b72df0",
            "max": 10,
            "min": 0,
            "orientation": "horizontal",
            "style": "IPY_MODEL_c25d93763e004a9aa17f5c210930cd7a",
            "value": 10
          }
        },
        "b06482dd37034e9eb9e6d8de0de0ff65": {
          "model_module": "@jupyter-widgets/controls",
          "model_name": "HTMLModel",
          "model_module_version": "1.5.0",
          "state": {
            "_dom_classes": [],
            "_model_module": "@jupyter-widgets/controls",
            "_model_module_version": "1.5.0",
            "_model_name": "HTMLModel",
            "_view_count": null,
            "_view_module": "@jupyter-widgets/controls",
            "_view_module_version": "1.5.0",
            "_view_name": "HTMLView",
            "description": "",
            "description_tooltip": null,
            "layout": "IPY_MODEL_0f0ec006b062456c8ad4939932b18703",
            "placeholder": "​",
            "style": "IPY_MODEL_9469e14084f846b9b7b560e147ee77ba",
            "value": " 10/10 [16:37&lt;00:00, 99.71s/it]"
          }
        },
        "a69578ce8ce5430691532c7ca15b3a79": {
          "model_module": "@jupyter-widgets/base",
          "model_name": "LayoutModel",
          "model_module_version": "1.2.0",
          "state": {
            "_model_module": "@jupyter-widgets/base",
            "_model_module_version": "1.2.0",
            "_model_name": "LayoutModel",
            "_view_count": null,
            "_view_module": "@jupyter-widgets/base",
            "_view_module_version": "1.2.0",
            "_view_name": "LayoutView",
            "align_content": null,
            "align_items": null,
            "align_self": null,
            "border": null,
            "bottom": null,
            "display": null,
            "flex": null,
            "flex_flow": null,
            "grid_area": null,
            "grid_auto_columns": null,
            "grid_auto_flow": null,
            "grid_auto_rows": null,
            "grid_column": null,
            "grid_gap": null,
            "grid_row": null,
            "grid_template_areas": null,
            "grid_template_columns": null,
            "grid_template_rows": null,
            "height": null,
            "justify_content": null,
            "justify_items": null,
            "left": null,
            "margin": null,
            "max_height": null,
            "max_width": null,
            "min_height": null,
            "min_width": null,
            "object_fit": null,
            "object_position": null,
            "order": null,
            "overflow": null,
            "overflow_x": null,
            "overflow_y": null,
            "padding": null,
            "right": null,
            "top": null,
            "visibility": null,
            "width": null
          }
        },
        "4ca7f65361754deb9d1190b9d29f5289": {
          "model_module": "@jupyter-widgets/base",
          "model_name": "LayoutModel",
          "model_module_version": "1.2.0",
          "state": {
            "_model_module": "@jupyter-widgets/base",
            "_model_module_version": "1.2.0",
            "_model_name": "LayoutModel",
            "_view_count": null,
            "_view_module": "@jupyter-widgets/base",
            "_view_module_version": "1.2.0",
            "_view_name": "LayoutView",
            "align_content": null,
            "align_items": null,
            "align_self": null,
            "border": null,
            "bottom": null,
            "display": null,
            "flex": null,
            "flex_flow": null,
            "grid_area": null,
            "grid_auto_columns": null,
            "grid_auto_flow": null,
            "grid_auto_rows": null,
            "grid_column": null,
            "grid_gap": null,
            "grid_row": null,
            "grid_template_areas": null,
            "grid_template_columns": null,
            "grid_template_rows": null,
            "height": null,
            "justify_content": null,
            "justify_items": null,
            "left": null,
            "margin": null,
            "max_height": null,
            "max_width": null,
            "min_height": null,
            "min_width": null,
            "object_fit": null,
            "object_position": null,
            "order": null,
            "overflow": null,
            "overflow_x": null,
            "overflow_y": null,
            "padding": null,
            "right": null,
            "top": null,
            "visibility": null,
            "width": null
          }
        },
        "36a9c7264434480a8ec7c8c8de098a57": {
          "model_module": "@jupyter-widgets/controls",
          "model_name": "DescriptionStyleModel",
          "model_module_version": "1.5.0",
          "state": {
            "_model_module": "@jupyter-widgets/controls",
            "_model_module_version": "1.5.0",
            "_model_name": "DescriptionStyleModel",
            "_view_count": null,
            "_view_module": "@jupyter-widgets/base",
            "_view_module_version": "1.2.0",
            "_view_name": "StyleView",
            "description_width": ""
          }
        },
        "6acbfbbe32024d8683656f8032b72df0": {
          "model_module": "@jupyter-widgets/base",
          "model_name": "LayoutModel",
          "model_module_version": "1.2.0",
          "state": {
            "_model_module": "@jupyter-widgets/base",
            "_model_module_version": "1.2.0",
            "_model_name": "LayoutModel",
            "_view_count": null,
            "_view_module": "@jupyter-widgets/base",
            "_view_module_version": "1.2.0",
            "_view_name": "LayoutView",
            "align_content": null,
            "align_items": null,
            "align_self": null,
            "border": null,
            "bottom": null,
            "display": null,
            "flex": null,
            "flex_flow": null,
            "grid_area": null,
            "grid_auto_columns": null,
            "grid_auto_flow": null,
            "grid_auto_rows": null,
            "grid_column": null,
            "grid_gap": null,
            "grid_row": null,
            "grid_template_areas": null,
            "grid_template_columns": null,
            "grid_template_rows": null,
            "height": null,
            "justify_content": null,
            "justify_items": null,
            "left": null,
            "margin": null,
            "max_height": null,
            "max_width": null,
            "min_height": null,
            "min_width": null,
            "object_fit": null,
            "object_position": null,
            "order": null,
            "overflow": null,
            "overflow_x": null,
            "overflow_y": null,
            "padding": null,
            "right": null,
            "top": null,
            "visibility": null,
            "width": null
          }
        },
        "c25d93763e004a9aa17f5c210930cd7a": {
          "model_module": "@jupyter-widgets/controls",
          "model_name": "ProgressStyleModel",
          "model_module_version": "1.5.0",
          "state": {
            "_model_module": "@jupyter-widgets/controls",
            "_model_module_version": "1.5.0",
            "_model_name": "ProgressStyleModel",
            "_view_count": null,
            "_view_module": "@jupyter-widgets/base",
            "_view_module_version": "1.2.0",
            "_view_name": "StyleView",
            "bar_color": null,
            "description_width": ""
          }
        },
        "0f0ec006b062456c8ad4939932b18703": {
          "model_module": "@jupyter-widgets/base",
          "model_name": "LayoutModel",
          "model_module_version": "1.2.0",
          "state": {
            "_model_module": "@jupyter-widgets/base",
            "_model_module_version": "1.2.0",
            "_model_name": "LayoutModel",
            "_view_count": null,
            "_view_module": "@jupyter-widgets/base",
            "_view_module_version": "1.2.0",
            "_view_name": "LayoutView",
            "align_content": null,
            "align_items": null,
            "align_self": null,
            "border": null,
            "bottom": null,
            "display": null,
            "flex": null,
            "flex_flow": null,
            "grid_area": null,
            "grid_auto_columns": null,
            "grid_auto_flow": null,
            "grid_auto_rows": null,
            "grid_column": null,
            "grid_gap": null,
            "grid_row": null,
            "grid_template_areas": null,
            "grid_template_columns": null,
            "grid_template_rows": null,
            "height": null,
            "justify_content": null,
            "justify_items": null,
            "left": null,
            "margin": null,
            "max_height": null,
            "max_width": null,
            "min_height": null,
            "min_width": null,
            "object_fit": null,
            "object_position": null,
            "order": null,
            "overflow": null,
            "overflow_x": null,
            "overflow_y": null,
            "padding": null,
            "right": null,
            "top": null,
            "visibility": null,
            "width": null
          }
        },
        "9469e14084f846b9b7b560e147ee77ba": {
          "model_module": "@jupyter-widgets/controls",
          "model_name": "DescriptionStyleModel",
          "model_module_version": "1.5.0",
          "state": {
            "_model_module": "@jupyter-widgets/controls",
            "_model_module_version": "1.5.0",
            "_model_name": "DescriptionStyleModel",
            "_view_count": null,
            "_view_module": "@jupyter-widgets/base",
            "_view_module_version": "1.2.0",
            "_view_name": "StyleView",
            "description_width": ""
          }
        },
        "29e6feb8a97842b889aa4d1fca1571a3": {
          "model_module": "@jupyter-widgets/controls",
          "model_name": "HBoxModel",
          "model_module_version": "1.5.0",
          "state": {
            "_dom_classes": [],
            "_model_module": "@jupyter-widgets/controls",
            "_model_module_version": "1.5.0",
            "_model_name": "HBoxModel",
            "_view_count": null,
            "_view_module": "@jupyter-widgets/controls",
            "_view_module_version": "1.5.0",
            "_view_name": "HBoxView",
            "box_style": "",
            "children": [
              "IPY_MODEL_3af8340172e24eb29b3028a8be55e8dc",
              "IPY_MODEL_02be23ca3adc4abfb5d1fcd2d090cbd8",
              "IPY_MODEL_823077049c564656bcc214a5d849be8c"
            ],
            "layout": "IPY_MODEL_28da9aa4d99d4c95acff3c7b539e3170"
          }
        },
        "3af8340172e24eb29b3028a8be55e8dc": {
          "model_module": "@jupyter-widgets/controls",
          "model_name": "HTMLModel",
          "model_module_version": "1.5.0",
          "state": {
            "_dom_classes": [],
            "_model_module": "@jupyter-widgets/controls",
            "_model_module_version": "1.5.0",
            "_model_name": "HTMLModel",
            "_view_count": null,
            "_view_module": "@jupyter-widgets/controls",
            "_view_module_version": "1.5.0",
            "_view_name": "HTMLView",
            "description": "",
            "description_tooltip": null,
            "layout": "IPY_MODEL_2eb50eac00544b6b8d5d7872f6141302",
            "placeholder": "​",
            "style": "IPY_MODEL_da2091f7fa0c4b8fb1779f9c194421e2",
            "value": "Making predictions...: 100%"
          }
        },
        "02be23ca3adc4abfb5d1fcd2d090cbd8": {
          "model_module": "@jupyter-widgets/controls",
          "model_name": "FloatProgressModel",
          "model_module_version": "1.5.0",
          "state": {
            "_dom_classes": [],
            "_model_module": "@jupyter-widgets/controls",
            "_model_module_version": "1.5.0",
            "_model_name": "FloatProgressModel",
            "_view_count": null,
            "_view_module": "@jupyter-widgets/controls",
            "_view_module_version": "1.5.0",
            "_view_name": "ProgressView",
            "bar_style": "success",
            "description": "",
            "description_tooltip": null,
            "layout": "IPY_MODEL_26464198b557465b9ff4106b472f6fca",
            "max": 1,
            "min": 0,
            "orientation": "horizontal",
            "style": "IPY_MODEL_09ab92ca7a084f23bcf218ef26dc99af",
            "value": 1
          }
        },
        "823077049c564656bcc214a5d849be8c": {
          "model_module": "@jupyter-widgets/controls",
          "model_name": "HTMLModel",
          "model_module_version": "1.5.0",
          "state": {
            "_dom_classes": [],
            "_model_module": "@jupyter-widgets/controls",
            "_model_module_version": "1.5.0",
            "_model_name": "HTMLModel",
            "_view_count": null,
            "_view_module": "@jupyter-widgets/controls",
            "_view_module_version": "1.5.0",
            "_view_name": "HTMLView",
            "description": "",
            "description_tooltip": null,
            "layout": "IPY_MODEL_0b6d64bbd4724cdb85082523117b1b1e",
            "placeholder": "​",
            "style": "IPY_MODEL_4a82412a265b4b119ffab48ca4e26927",
            "value": " 1/1 [00:01&lt;00:00,  1.17s/it]"
          }
        },
        "28da9aa4d99d4c95acff3c7b539e3170": {
          "model_module": "@jupyter-widgets/base",
          "model_name": "LayoutModel",
          "model_module_version": "1.2.0",
          "state": {
            "_model_module": "@jupyter-widgets/base",
            "_model_module_version": "1.2.0",
            "_model_name": "LayoutModel",
            "_view_count": null,
            "_view_module": "@jupyter-widgets/base",
            "_view_module_version": "1.2.0",
            "_view_name": "LayoutView",
            "align_content": null,
            "align_items": null,
            "align_self": null,
            "border": null,
            "bottom": null,
            "display": null,
            "flex": null,
            "flex_flow": null,
            "grid_area": null,
            "grid_auto_columns": null,
            "grid_auto_flow": null,
            "grid_auto_rows": null,
            "grid_column": null,
            "grid_gap": null,
            "grid_row": null,
            "grid_template_areas": null,
            "grid_template_columns": null,
            "grid_template_rows": null,
            "height": null,
            "justify_content": null,
            "justify_items": null,
            "left": null,
            "margin": null,
            "max_height": null,
            "max_width": null,
            "min_height": null,
            "min_width": null,
            "object_fit": null,
            "object_position": null,
            "order": null,
            "overflow": null,
            "overflow_x": null,
            "overflow_y": null,
            "padding": null,
            "right": null,
            "top": null,
            "visibility": null,
            "width": null
          }
        },
        "2eb50eac00544b6b8d5d7872f6141302": {
          "model_module": "@jupyter-widgets/base",
          "model_name": "LayoutModel",
          "model_module_version": "1.2.0",
          "state": {
            "_model_module": "@jupyter-widgets/base",
            "_model_module_version": "1.2.0",
            "_model_name": "LayoutModel",
            "_view_count": null,
            "_view_module": "@jupyter-widgets/base",
            "_view_module_version": "1.2.0",
            "_view_name": "LayoutView",
            "align_content": null,
            "align_items": null,
            "align_self": null,
            "border": null,
            "bottom": null,
            "display": null,
            "flex": null,
            "flex_flow": null,
            "grid_area": null,
            "grid_auto_columns": null,
            "grid_auto_flow": null,
            "grid_auto_rows": null,
            "grid_column": null,
            "grid_gap": null,
            "grid_row": null,
            "grid_template_areas": null,
            "grid_template_columns": null,
            "grid_template_rows": null,
            "height": null,
            "justify_content": null,
            "justify_items": null,
            "left": null,
            "margin": null,
            "max_height": null,
            "max_width": null,
            "min_height": null,
            "min_width": null,
            "object_fit": null,
            "object_position": null,
            "order": null,
            "overflow": null,
            "overflow_x": null,
            "overflow_y": null,
            "padding": null,
            "right": null,
            "top": null,
            "visibility": null,
            "width": null
          }
        },
        "da2091f7fa0c4b8fb1779f9c194421e2": {
          "model_module": "@jupyter-widgets/controls",
          "model_name": "DescriptionStyleModel",
          "model_module_version": "1.5.0",
          "state": {
            "_model_module": "@jupyter-widgets/controls",
            "_model_module_version": "1.5.0",
            "_model_name": "DescriptionStyleModel",
            "_view_count": null,
            "_view_module": "@jupyter-widgets/base",
            "_view_module_version": "1.2.0",
            "_view_name": "StyleView",
            "description_width": ""
          }
        },
        "26464198b557465b9ff4106b472f6fca": {
          "model_module": "@jupyter-widgets/base",
          "model_name": "LayoutModel",
          "model_module_version": "1.2.0",
          "state": {
            "_model_module": "@jupyter-widgets/base",
            "_model_module_version": "1.2.0",
            "_model_name": "LayoutModel",
            "_view_count": null,
            "_view_module": "@jupyter-widgets/base",
            "_view_module_version": "1.2.0",
            "_view_name": "LayoutView",
            "align_content": null,
            "align_items": null,
            "align_self": null,
            "border": null,
            "bottom": null,
            "display": null,
            "flex": null,
            "flex_flow": null,
            "grid_area": null,
            "grid_auto_columns": null,
            "grid_auto_flow": null,
            "grid_auto_rows": null,
            "grid_column": null,
            "grid_gap": null,
            "grid_row": null,
            "grid_template_areas": null,
            "grid_template_columns": null,
            "grid_template_rows": null,
            "height": null,
            "justify_content": null,
            "justify_items": null,
            "left": null,
            "margin": null,
            "max_height": null,
            "max_width": null,
            "min_height": null,
            "min_width": null,
            "object_fit": null,
            "object_position": null,
            "order": null,
            "overflow": null,
            "overflow_x": null,
            "overflow_y": null,
            "padding": null,
            "right": null,
            "top": null,
            "visibility": null,
            "width": null
          }
        },
        "09ab92ca7a084f23bcf218ef26dc99af": {
          "model_module": "@jupyter-widgets/controls",
          "model_name": "ProgressStyleModel",
          "model_module_version": "1.5.0",
          "state": {
            "_model_module": "@jupyter-widgets/controls",
            "_model_module_version": "1.5.0",
            "_model_name": "ProgressStyleModel",
            "_view_count": null,
            "_view_module": "@jupyter-widgets/base",
            "_view_module_version": "1.2.0",
            "_view_name": "StyleView",
            "bar_color": null,
            "description_width": ""
          }
        },
        "0b6d64bbd4724cdb85082523117b1b1e": {
          "model_module": "@jupyter-widgets/base",
          "model_name": "LayoutModel",
          "model_module_version": "1.2.0",
          "state": {
            "_model_module": "@jupyter-widgets/base",
            "_model_module_version": "1.2.0",
            "_model_name": "LayoutModel",
            "_view_count": null,
            "_view_module": "@jupyter-widgets/base",
            "_view_module_version": "1.2.0",
            "_view_name": "LayoutView",
            "align_content": null,
            "align_items": null,
            "align_self": null,
            "border": null,
            "bottom": null,
            "display": null,
            "flex": null,
            "flex_flow": null,
            "grid_area": null,
            "grid_auto_columns": null,
            "grid_auto_flow": null,
            "grid_auto_rows": null,
            "grid_column": null,
            "grid_gap": null,
            "grid_row": null,
            "grid_template_areas": null,
            "grid_template_columns": null,
            "grid_template_rows": null,
            "height": null,
            "justify_content": null,
            "justify_items": null,
            "left": null,
            "margin": null,
            "max_height": null,
            "max_width": null,
            "min_height": null,
            "min_width": null,
            "object_fit": null,
            "object_position": null,
            "order": null,
            "overflow": null,
            "overflow_x": null,
            "overflow_y": null,
            "padding": null,
            "right": null,
            "top": null,
            "visibility": null,
            "width": null
          }
        },
        "4a82412a265b4b119ffab48ca4e26927": {
          "model_module": "@jupyter-widgets/controls",
          "model_name": "DescriptionStyleModel",
          "model_module_version": "1.5.0",
          "state": {
            "_model_module": "@jupyter-widgets/controls",
            "_model_module_version": "1.5.0",
            "_model_name": "DescriptionStyleModel",
            "_view_count": null,
            "_view_module": "@jupyter-widgets/base",
            "_view_module_version": "1.2.0",
            "_view_name": "StyleView",
            "description_width": ""
          }
        }
      }
    }
  },
  "cells": [
    {
      "cell_type": "code",
      "execution_count": null,
      "metadata": {
        "colab": {
          "base_uri": "https://localhost:8080/"
        },
        "id": "NNshBRThMhNU",
        "outputId": "d441523f-8aea-4dac-9834-63df3b0e4947"
      },
      "outputs": [
        {
          "output_type": "stream",
          "name": "stdout",
          "text": [
            "2.0.1+cu118\n",
            "cuda\n",
            "nvcc: NVIDIA (R) Cuda compiler driver\n",
            "Copyright (c) 2005-2022 NVIDIA Corporation\n",
            "Built on Wed_Sep_21_10:33:58_PDT_2022\n",
            "Cuda compilation tools, release 11.8, V11.8.89\n",
            "Build cuda_11.8.r11.8/compiler.31833905_0\n"
          ]
        }
      ],
      "source": [
        "#!pip install torch --upgrade\n",
        "import os\n",
        "import pathlib\n",
        "import torch\n",
        "import random\n",
        "import numpy as np\n",
        "import matplotlib.pyplot as plt\n",
        "from PIL import Image\n",
        "from torch.utils.data import Dataset\n",
        "from torchvision import transforms\n",
        "from typing import Tuple, Dict, List\n",
        "import torch\n",
        "from torch.utils.data import DataLoader\n",
        "from torchvision import datasets, transforms\n",
        "from torch import nn\n",
        "import torch.nn.functional as F\n",
        "from torch.nn.functional import one_hot\n",
        "from collections import defaultdict\n",
        "print(torch.__version__)\n",
        "#Setup device-agnostic code\n",
        "device = \"cuda\" if torch.cuda.is_available() else \"cpu\"\n",
        "print(device)\n",
        "!nvcc --version"
      ]
    },
    {
      "cell_type": "code",
      "source": [
        "import zipfile\n",
        "from pathlib import Path\n",
        "\n",
        "#Setup path to a data folder\n",
        "data_path = Path(\"gene_data/\")\n",
        "text_path = data_path / \"RMS_genes\"\n",
        "\n",
        "if text_path.is_dir():\n",
        "  print(f\"{text_path} directory already exists.. skipping extraction\")\n",
        "else:\n",
        "  print(f\"{text_path} does not exist, creating one...\")\n",
        "  text_path.mkdir(parents=True, exist_ok=True)\n",
        "\n",
        "# File path in Google Colab after upload\n",
        "zip_path = Path(\"gene_data/RMS_genes/110k_set.zip\")  # Update this if your file is in a different location\n",
        "\n",
        "#Unzip the data\n",
        "with zipfile.ZipFile(zip_path, \"r\") as zip_ref:\n",
        "  print(f\"Unzipping file...\")\n",
        "  zip_ref.extractall(text_path)\n"
      ],
      "metadata": {
        "colab": {
          "base_uri": "https://localhost:8080/"
        },
        "id": "mdNDDo9fFcpB",
        "outputId": "540ca711-3815-42a9-e305-adb9d0c9357c"
      },
      "execution_count": null,
      "outputs": [
        {
          "output_type": "stream",
          "name": "stdout",
          "text": [
            "gene_data/RMS_genes directory already exists.. skipping extraction\n",
            "Unzipping file...\n"
          ]
        }
      ]
    },
    {
      "cell_type": "code",
      "source": [
        "import os\n",
        "def walk_through_dir(dir_path):\n",
        "  \"\"\"Walks through dir_path returning its contents.\"\"\"\n",
        "  for dirpath, dirnames, filenames in os.walk(dir_path):\n",
        "    print(f\"There are {len(dirnames)} directories and {len(filenames)} sequences in '{dirpath}'.\")\n",
        "\n",
        "walk_through_dir(text_path)"
      ],
      "metadata": {
        "id": "Tnxe7lglYhtp",
        "colab": {
          "base_uri": "https://localhost:8080/"
        },
        "outputId": "79e21e56-89e4-474b-ca77-e0d87c21e0bd"
      },
      "execution_count": null,
      "outputs": [
        {
          "output_type": "stream",
          "name": "stdout",
          "text": [
            "There are 2 directories and 1 sequences in 'gene_data/RMS_genes'.\n",
            "There are 3 directories and 0 sequences in 'gene_data/RMS_genes/110k_set'.\n",
            "There are 13 directories and 0 sequences in 'gene_data/RMS_genes/110k_set/test'.\n",
            "There are 0 directories and 100 sequences in 'gene_data/RMS_genes/110k_set/test/Type_III_restriction_enzyme'.\n",
            "There are 0 directories and 100 sequences in 'gene_data/RMS_genes/110k_set/test/negative'.\n",
            "There are 0 directories and 100 sequences in 'gene_data/RMS_genes/110k_set/test/Type_II_restriction_enzyme'.\n",
            "There are 0 directories and 100 sequences in 'gene_data/RMS_genes/110k_set/test/Type_II_methyltransferase'.\n",
            "There are 0 directories and 100 sequences in 'gene_data/RMS_genes/110k_set/test/Type_III_methyltransferase'.\n",
            "There are 0 directories and 100 sequences in 'gene_data/RMS_genes/110k_set/test/Type_IIG_restriction_enzyme_methyltransferase'.\n",
            "There are 0 directories and 0 sequences in 'gene_data/RMS_genes/110k_set/test/.ipynb_checkpoints'.\n",
            "There are 0 directories and 100 sequences in 'gene_data/RMS_genes/110k_set/test/Type_IV_methyl-directed_restriction_enzyme'.\n",
            "There are 0 directories and 100 sequences in 'gene_data/RMS_genes/110k_set/test/Type_II_specificity_subunit'.\n",
            "There are 0 directories and 100 sequences in 'gene_data/RMS_genes/110k_set/test/Type_I_restriction_enzyme'.\n",
            "There are 0 directories and 100 sequences in 'gene_data/RMS_genes/110k_set/test/Type_I_specificity_subunit'.\n",
            "There are 0 directories and 100 sequences in 'gene_data/RMS_genes/110k_set/test/negative_test_3'.\n",
            "There are 0 directories and 100 sequences in 'gene_data/RMS_genes/110k_set/test/Type_I_methyltransferase'.\n",
            "There are 13 directories and 0 sequences in 'gene_data/RMS_genes/110k_set/val'.\n",
            "There are 0 directories and 900 sequences in 'gene_data/RMS_genes/110k_set/val/Type_III_restriction_enzyme'.\n",
            "There are 0 directories and 900 sequences in 'gene_data/RMS_genes/110k_set/val/negative_val_3'.\n",
            "There are 0 directories and 900 sequences in 'gene_data/RMS_genes/110k_set/val/negative'.\n",
            "There are 0 directories and 900 sequences in 'gene_data/RMS_genes/110k_set/val/Type_II_restriction_enzyme'.\n",
            "There are 0 directories and 900 sequences in 'gene_data/RMS_genes/110k_set/val/Type_II_methyltransferase'.\n",
            "There are 0 directories and 900 sequences in 'gene_data/RMS_genes/110k_set/val/Type_III_methyltransferase'.\n",
            "There are 0 directories and 900 sequences in 'gene_data/RMS_genes/110k_set/val/Type_IIG_restriction_enzyme_methyltransferase'.\n",
            "There are 0 directories and 0 sequences in 'gene_data/RMS_genes/110k_set/val/.ipynb_checkpoints'.\n",
            "There are 0 directories and 900 sequences in 'gene_data/RMS_genes/110k_set/val/Type_IV_methyl-directed_restriction_enzyme'.\n",
            "There are 0 directories and 900 sequences in 'gene_data/RMS_genes/110k_set/val/Type_II_specificity_subunit'.\n",
            "There are 0 directories and 900 sequences in 'gene_data/RMS_genes/110k_set/val/Type_I_restriction_enzyme'.\n",
            "There are 0 directories and 900 sequences in 'gene_data/RMS_genes/110k_set/val/Type_I_specificity_subunit'.\n",
            "There are 0 directories and 900 sequences in 'gene_data/RMS_genes/110k_set/val/Type_I_methyltransferase'.\n",
            "There are 13 directories and 0 sequences in 'gene_data/RMS_genes/110k_set/train'.\n",
            "There are 0 directories and 9000 sequences in 'gene_data/RMS_genes/110k_set/train/Type_III_restriction_enzyme'.\n",
            "There are 0 directories and 9000 sequences in 'gene_data/RMS_genes/110k_set/train/negative'.\n",
            "There are 0 directories and 9000 sequences in 'gene_data/RMS_genes/110k_set/train/Type_II_restriction_enzyme'.\n",
            "There are 0 directories and 9000 sequences in 'gene_data/RMS_genes/110k_set/train/Type_II_methyltransferase'.\n",
            "There are 0 directories and 9000 sequences in 'gene_data/RMS_genes/110k_set/train/Type_III_methyltransferase'.\n",
            "There are 0 directories and 9000 sequences in 'gene_data/RMS_genes/110k_set/train/Type_IIG_restriction_enzyme_methyltransferase'.\n",
            "There are 0 directories and 0 sequences in 'gene_data/RMS_genes/110k_set/train/.ipynb_checkpoints'.\n",
            "There are 0 directories and 9000 sequences in 'gene_data/RMS_genes/110k_set/train/Type_IV_methyl-directed_restriction_enzyme'.\n",
            "There are 0 directories and 9000 sequences in 'gene_data/RMS_genes/110k_set/train/Type_II_specificity_subunit'.\n",
            "There are 0 directories and 9000 sequences in 'gene_data/RMS_genes/110k_set/train/Type_I_restriction_enzyme'.\n",
            "There are 0 directories and 9000 sequences in 'gene_data/RMS_genes/110k_set/train/Type_I_specificity_subunit'.\n",
            "There are 0 directories and 9000 sequences in 'gene_data/RMS_genes/110k_set/train/Type_I_methyltransferase'.\n",
            "There are 0 directories and 9000 sequences in 'gene_data/RMS_genes/110k_set/train/negative_train_3'.\n",
            "There are 0 directories and 0 sequences in 'gene_data/RMS_genes/.ipynb_checkpoints'.\n"
          ]
        }
      ]
    },
    {
      "cell_type": "code",
      "source": [
        "#Setup train and testing paths\n",
        "train_dir = text_path / \"110k_set\" / \"train\"\n",
        "val_dir = text_path / \"110k_set\" / \"val\"\n",
        "test_dir = text_path / \"110k_set\" / \"test\"\n",
        "train_dir, val_dir, test_dir"
      ],
      "metadata": {
        "id": "0De7WuFpYiJT",
        "colab": {
          "base_uri": "https://localhost:8080/"
        },
        "outputId": "ef4af9a3-79f8-47f9-9fe8-8048e6a4bb13"
      },
      "execution_count": null,
      "outputs": [
        {
          "output_type": "execute_result",
          "data": {
            "text/plain": [
              "(PosixPath('gene_data/RMS_genes/110k_set/train'),\n",
              " PosixPath('gene_data/RMS_genes/110k_set/val'),\n",
              " PosixPath('gene_data/RMS_genes/110k_set/test'))"
            ]
          },
          "metadata": {},
          "execution_count": 4
        }
      ]
    },
    {
      "cell_type": "code",
      "source": [
        "from torch.nn.functional import one_hot\n",
        "from torch.utils.data import Dataset\n",
        "import os\n",
        "import torch\n",
        "from collections import defaultdict\n",
        "\n",
        "# Define a index encoding for the amino acid sequences\n",
        "amino_acids = ['A', 'C', 'D', 'E', 'F',\n",
        "               'G', 'H', 'I', 'K', 'L',\n",
        "               'M', 'N', 'P', 'Q', 'R',\n",
        "               'S', 'T', 'V', 'W', 'Y', '0']\n",
        "amino_to_index = {aa: index for index, aa in enumerate(amino_acids)}\n",
        "\n",
        "class AminoAcidSequenceDataset(Dataset):\n",
        "    def __init__(self, root_dir, classes):\n",
        "        self.classes = classes # get list of classes\n",
        "        # Create a mapping of class names to integers\n",
        "        self.class_to_idx = {cls: idx for idx, cls in enumerate(self.classes)}\n",
        "        self.files = []\n",
        "        self.labels = []\n",
        "        self.max_length = 0\n",
        "\n",
        "        # loop through each class's directory, then each file in that directory\n",
        "        for label, class_name in enumerate(self.classes):\n",
        "            class_dir = os.path.join(root_dir, class_name)\n",
        "            for filename in os.listdir(class_dir):\n",
        "                file_path = os.path.join(class_dir, filename)\n",
        "                self.files.append(file_path)\n",
        "                # Use the mapping to convert class names to integers\n",
        "                self.labels.append(self.class_to_idx[class_name])\n",
        "\n",
        "                # open the file and find its length\n",
        "                with open(file_path, 'r') as f:\n",
        "                    sequence = f.read().strip()\n",
        "                    self.max_length = max(self.max_length, len(sequence))\n",
        "\n",
        "        # Print the lengths of self.files and self.labels\n",
        "        print(f\"Length of self.files: {len(self.files)}\")\n",
        "        print(f\"Length of self.labels: {len(self.labels)}\")\n",
        "\n",
        "    def __len__(self):\n",
        "      return len(self.files)\n",
        "\n",
        "    def __getitem__(self, idx):\n",
        "        with open(self.files[idx], 'r') as f:\n",
        "            sequence = f.read().strip()\n",
        "\n",
        "        sequence = sequence.ljust(2000, '0')\n",
        "\n",
        "        amino_to_index_default = defaultdict(lambda: amino_to_index['0'])\n",
        "        amino_to_index_default.update(amino_to_index)\n",
        "        index_sequence = [amino_to_index_default[aa] for aa in sequence]\n",
        "\n",
        "        # Convert indices to one-hot encoded tensor\n",
        "        sequence_tensor = torch.nn.functional.one_hot(torch.tensor(index_sequence, dtype=torch.long),\n",
        "                                                      num_classes=len(amino_to_index))\n",
        "\n",
        "        return sequence_tensor.float().to(device), self.labels[idx]\n",
        "\n",
        "# Specify the order of classes\n",
        "classes = ['Type_III_restriction_enzyme',\n",
        "           'Type_II_restriction_enzyme',\n",
        "           'Type_II_methyltransferase',\n",
        "           'Type_III_methyltransferase',\n",
        "           'Type_IIG_restriction_enzyme_methyltransferase',\n",
        "           'Type_IV_methyl-directed_restriction_enzyme',\n",
        "           'Type_II_specificity_subunit',\n",
        "           'Type_I_restriction_enzyme',\n",
        "           'Type_I_specificity_subunit',\n",
        "           'negative',\n",
        "           'Type_I_methyltransferase']\n",
        "\n",
        "# Create your datasets\n",
        "train_data = AminoAcidSequenceDataset(root_dir=train_dir, classes=classes)\n",
        "val_data = AminoAcidSequenceDataset(root_dir=val_dir, classes=classes)\n",
        "test_data = AminoAcidSequenceDataset(root_dir=test_dir, classes=classes)\n",
        "\n",
        "# Get the first item in the dataset\n",
        "first_item, first_label = train_data[0]\n",
        "\n",
        "# Print its shape\n",
        "print(first_item.shape)\n"
      ],
      "metadata": {
        "id": "tTapw2CUWJlr",
        "colab": {
          "base_uri": "https://localhost:8080/"
        },
        "outputId": "25cb69b0-dc4c-4eba-86bb-196fc3776b4d"
      },
      "execution_count": null,
      "outputs": [
        {
          "output_type": "stream",
          "name": "stdout",
          "text": [
            "Length of self.files: 99000\n",
            "Length of self.labels: 99000\n",
            "Length of self.files: 9900\n",
            "Length of self.labels: 9900\n",
            "Length of self.files: 1100\n",
            "Length of self.labels: 1100\n",
            "torch.Size([2000, 21])\n"
          ]
        }
      ]
    },
    {
      "cell_type": "code",
      "source": [
        "# Randomly select a file\n",
        "random_index = random.choice(range(len(train_data.files)))\n",
        "random_file_path = train_data.files[random_index]\n",
        "\n",
        "# Get the associated file name and class\n",
        "random_file_class = train_data.labels[random_index]\n",
        "random_file_name = os.path.basename(random_file_path)\n",
        "# Open and read the file\n",
        "with open(random_file_path, 'r') as file:\n",
        "    print(f\"File: {random_file_name}\\n\\nFile content:\\n{file.read()}\")\n",
        "\n",
        "# Print the associated class\n",
        "print(f\"\\nAssociated class: {random_file_class}\")\n"
      ],
      "metadata": {
        "id": "8P1TTPCG571Y",
        "colab": {
          "base_uri": "https://localhost:8080/"
        },
        "outputId": "a8832b36-30ed-4ec3-e8c7-7d876a26617b"
      },
      "execution_count": null,
      "outputs": [
        {
          "output_type": "stream",
          "name": "stdout",
          "text": [
            "File: PBEDAPHE_00532_GDP-perosamine_N-acetyltransferase.txt\n",
            "\n",
            "File content:\n",
            "MHDLVIIGCGGFGRESADVVDAINRSAPTWNLLGFVDDDPSAENVARVRRRGAALLGGLEAFSSRGRGVHYAIGIGDAPTRERVASVAEAAGMVPATLVHPWAAIGADADIGEGVVVCAYAQIGSDVSIGRHVHLDRASQIGHDCAVEDFVTVHPAAVVSGGCVLGPGAELGTGSTILPGTAVGAHAVVGAAACVVKDVPPGVTVKGVPAG\n",
            "\n",
            "Associated class: 9\n"
          ]
        }
      ]
    },
    {
      "cell_type": "code",
      "source": [
        "#Get class names as a list\n",
        "#Check the lengths of our dataset\n",
        "print(len(train_data), len(val_data), len(test_data))\n",
        "class_dict = train_data.class_to_idx\n",
        "class_dict"
      ],
      "metadata": {
        "id": "9TiJZDxayAxt",
        "colab": {
          "base_uri": "https://localhost:8080/"
        },
        "outputId": "7cadb074-2839-4e50-93c1-189b475883ec"
      },
      "execution_count": null,
      "outputs": [
        {
          "output_type": "stream",
          "name": "stdout",
          "text": [
            "99000 9900 1100\n"
          ]
        },
        {
          "output_type": "execute_result",
          "data": {
            "text/plain": [
              "{'Type_III_restriction_enzyme': 0,\n",
              " 'Type_II_restriction_enzyme': 1,\n",
              " 'Type_II_methyltransferase': 2,\n",
              " 'Type_III_methyltransferase': 3,\n",
              " 'Type_IIG_restriction_enzyme_methyltransferase': 4,\n",
              " 'Type_IV_methyl-directed_restriction_enzyme': 5,\n",
              " 'Type_II_specificity_subunit': 6,\n",
              " 'Type_I_restriction_enzyme': 7,\n",
              " 'Type_I_specificity_subunit': 8,\n",
              " 'negative': 9,\n",
              " 'Type_I_methyltransferase': 10}"
            ]
          },
          "metadata": {},
          "execution_count": 7
        }
      ]
    },
    {
      "cell_type": "code",
      "source": [
        "print(train_data.class_to_idx)\n",
        "print(val_data.class_to_idx)\n",
        "print(test_data.class_to_idx)"
      ],
      "metadata": {
        "colab": {
          "base_uri": "https://localhost:8080/"
        },
        "id": "8Fbo3Qv3trjN",
        "outputId": "82a5ab56-f175-42a7-8344-162e800c8b7a"
      },
      "execution_count": null,
      "outputs": [
        {
          "output_type": "stream",
          "name": "stdout",
          "text": [
            "{'Type_III_restriction_enzyme': 0, 'Type_II_restriction_enzyme': 1, 'Type_II_methyltransferase': 2, 'Type_III_methyltransferase': 3, 'Type_IIG_restriction_enzyme_methyltransferase': 4, 'Type_IV_methyl-directed_restriction_enzyme': 5, 'Type_II_specificity_subunit': 6, 'Type_I_restriction_enzyme': 7, 'Type_I_specificity_subunit': 8, 'negative': 9, 'Type_I_methyltransferase': 10}\n",
            "{'Type_III_restriction_enzyme': 0, 'Type_II_restriction_enzyme': 1, 'Type_II_methyltransferase': 2, 'Type_III_methyltransferase': 3, 'Type_IIG_restriction_enzyme_methyltransferase': 4, 'Type_IV_methyl-directed_restriction_enzyme': 5, 'Type_II_specificity_subunit': 6, 'Type_I_restriction_enzyme': 7, 'Type_I_specificity_subunit': 8, 'negative': 9, 'Type_I_methyltransferase': 10}\n",
            "{'Type_III_restriction_enzyme': 0, 'Type_II_restriction_enzyme': 1, 'Type_II_methyltransferase': 2, 'Type_III_methyltransferase': 3, 'Type_IIG_restriction_enzyme_methyltransferase': 4, 'Type_IV_methyl-directed_restriction_enzyme': 5, 'Type_II_specificity_subunit': 6, 'Type_I_restriction_enzyme': 7, 'Type_I_specificity_subunit': 8, 'negative': 9, 'Type_I_methyltransferase': 10}\n"
          ]
        }
      ]
    },
    {
      "cell_type": "code",
      "source": [
        "from collections import Counter\n",
        "\n",
        "# Print class_to_idx for each dataset\n",
        "print(\"train_data.class_to_idx: \", train_data.class_to_idx)\n",
        "print(\"val_data.class_to_idx: \", val_data.class_to_idx)\n",
        "print(\"test_data.class_to_idx: \", test_data.class_to_idx)\n",
        "\n",
        "# Function to count samples for each class in a dataset\n",
        "def print_class_counts(data, name):\n",
        "    label_counts = Counter(data.labels)  # Assumes your dataset object stores labels in 'targets'. If not, adjust as necessary.\n",
        "    print(\"\\n\" + name + \" class counts:\")\n",
        "    for class_name, idx in data.class_to_idx.items():\n",
        "        print(f\"{class_name}: {label_counts[idx]} samples\")\n",
        "\n",
        "# Print class counts for each dataset\n",
        "print_class_counts(train_data, \"Train Data\")\n",
        "print_class_counts(val_data, \"Validation Data\")\n",
        "print_class_counts(test_data, \"Test Data\")\n"
      ],
      "metadata": {
        "colab": {
          "base_uri": "https://localhost:8080/"
        },
        "id": "HSZFPGu9vt8G",
        "outputId": "574c7db6-c376-4ea1-e6a5-ea32654b3495"
      },
      "execution_count": null,
      "outputs": [
        {
          "output_type": "stream",
          "name": "stdout",
          "text": [
            "train_data.class_to_idx:  {'Type_III_restriction_enzyme': 0, 'Type_II_restriction_enzyme': 1, 'Type_II_methyltransferase': 2, 'Type_III_methyltransferase': 3, 'Type_IIG_restriction_enzyme_methyltransferase': 4, 'Type_IV_methyl-directed_restriction_enzyme': 5, 'Type_II_specificity_subunit': 6, 'Type_I_restriction_enzyme': 7, 'Type_I_specificity_subunit': 8, 'negative': 9, 'Type_I_methyltransferase': 10}\n",
            "val_data.class_to_idx:  {'Type_III_restriction_enzyme': 0, 'Type_II_restriction_enzyme': 1, 'Type_II_methyltransferase': 2, 'Type_III_methyltransferase': 3, 'Type_IIG_restriction_enzyme_methyltransferase': 4, 'Type_IV_methyl-directed_restriction_enzyme': 5, 'Type_II_specificity_subunit': 6, 'Type_I_restriction_enzyme': 7, 'Type_I_specificity_subunit': 8, 'negative': 9, 'Type_I_methyltransferase': 10}\n",
            "test_data.class_to_idx:  {'Type_III_restriction_enzyme': 0, 'Type_II_restriction_enzyme': 1, 'Type_II_methyltransferase': 2, 'Type_III_methyltransferase': 3, 'Type_IIG_restriction_enzyme_methyltransferase': 4, 'Type_IV_methyl-directed_restriction_enzyme': 5, 'Type_II_specificity_subunit': 6, 'Type_I_restriction_enzyme': 7, 'Type_I_specificity_subunit': 8, 'negative': 9, 'Type_I_methyltransferase': 10}\n",
            "\n",
            "Train Data class counts:\n",
            "Type_III_restriction_enzyme: 9000 samples\n",
            "Type_II_restriction_enzyme: 9000 samples\n",
            "Type_II_methyltransferase: 9000 samples\n",
            "Type_III_methyltransferase: 9000 samples\n",
            "Type_IIG_restriction_enzyme_methyltransferase: 9000 samples\n",
            "Type_IV_methyl-directed_restriction_enzyme: 9000 samples\n",
            "Type_II_specificity_subunit: 9000 samples\n",
            "Type_I_restriction_enzyme: 9000 samples\n",
            "Type_I_specificity_subunit: 9000 samples\n",
            "negative: 9000 samples\n",
            "Type_I_methyltransferase: 9000 samples\n",
            "\n",
            "Validation Data class counts:\n",
            "Type_III_restriction_enzyme: 900 samples\n",
            "Type_II_restriction_enzyme: 900 samples\n",
            "Type_II_methyltransferase: 900 samples\n",
            "Type_III_methyltransferase: 900 samples\n",
            "Type_IIG_restriction_enzyme_methyltransferase: 900 samples\n",
            "Type_IV_methyl-directed_restriction_enzyme: 900 samples\n",
            "Type_II_specificity_subunit: 900 samples\n",
            "Type_I_restriction_enzyme: 900 samples\n",
            "Type_I_specificity_subunit: 900 samples\n",
            "negative: 900 samples\n",
            "Type_I_methyltransferase: 900 samples\n",
            "\n",
            "Test Data class counts:\n",
            "Type_III_restriction_enzyme: 100 samples\n",
            "Type_II_restriction_enzyme: 100 samples\n",
            "Type_II_methyltransferase: 100 samples\n",
            "Type_III_methyltransferase: 100 samples\n",
            "Type_IIG_restriction_enzyme_methyltransferase: 100 samples\n",
            "Type_IV_methyl-directed_restriction_enzyme: 100 samples\n",
            "Type_II_specificity_subunit: 100 samples\n",
            "Type_I_restriction_enzyme: 100 samples\n",
            "Type_I_specificity_subunit: 100 samples\n",
            "negative: 100 samples\n",
            "Type_I_methyltransferase: 100 samples\n"
          ]
        }
      ]
    },
    {
      "cell_type": "code",
      "source": [
        "from torch.utils.data import DataLoader\n",
        "\n",
        "BATCH_SIZE = 16000\n",
        "NUM_WORKERS = 0\n",
        "\n",
        "print(f\"Length of train_data before creating DataLoader: {len(train_data)}\")\n",
        "train_dataloader = DataLoader(dataset=train_data,\n",
        "                              batch_size=BATCH_SIZE,\n",
        "                              num_workers=NUM_WORKERS,\n",
        "                              shuffle=True)\n",
        "\n",
        "print(f\"Length of validation_data before creating DataLoader: {len(val_data)}\")\n",
        "val_dataloader = DataLoader(dataset=val_data,\n",
        "                                   batch_size=BATCH_SIZE,\n",
        "                                   num_workers=NUM_WORKERS,\n",
        "                                   shuffle=False)\n",
        "\n",
        "print(f\"Length of test_data before creating DataLoader: {len(test_data)}\")\n",
        "test_dataloader = DataLoader(dataset=test_data,\n",
        "                             batch_size=BATCH_SIZE,\n",
        "                             num_workers=NUM_WORKERS,\n",
        "                             shuffle=False)\n",
        "\n",
        "train_dataloader, val_dataloader, test_dataloader\n"
      ],
      "metadata": {
        "id": "p9QK8Mi3yHBg",
        "colab": {
          "base_uri": "https://localhost:8080/"
        },
        "outputId": "9179e5dc-fb77-4de3-85a6-d7fe011f0489"
      },
      "execution_count": null,
      "outputs": [
        {
          "output_type": "stream",
          "name": "stdout",
          "text": [
            "Length of train_data before creating DataLoader: 99000\n",
            "Length of validation_data before creating DataLoader: 9900\n",
            "Length of test_data before creating DataLoader: 1100\n"
          ]
        },
        {
          "output_type": "execute_result",
          "data": {
            "text/plain": [
              "(<torch.utils.data.dataloader.DataLoader at 0x7e85b61d8ac0>,\n",
              " <torch.utils.data.dataloader.DataLoader at 0x7e85b61d8a30>,\n",
              " <torch.utils.data.dataloader.DataLoader at 0x7e85b61d9c60>)"
            ]
          },
          "metadata": {},
          "execution_count": 10
        }
      ]
    },
    {
      "cell_type": "code",
      "source": [
        "seq, label = train_data[0][0], train_data[0][1]\n",
        "\n",
        "print(f\"Image tensor:\\n{seq}\")\n",
        "print(f\"Image shape: {seq.shape}\")\n",
        "print(f\"Image datatype: {seq.dtype}\")\n",
        "print(f\"Image label: {label}\")\n",
        "print(f\"Label datatype: {type(label)}\")"
      ],
      "metadata": {
        "id": "2pBwKQu8ZRce",
        "colab": {
          "base_uri": "https://localhost:8080/"
        },
        "outputId": "27545be9-c63f-4cb2-fe3d-be0f662881b3"
      },
      "execution_count": null,
      "outputs": [
        {
          "output_type": "stream",
          "name": "stdout",
          "text": [
            "Image tensor:\n",
            "tensor([[0., 0., 0.,  ..., 0., 0., 0.],\n",
            "        [0., 0., 0.,  ..., 0., 0., 0.],\n",
            "        [0., 0., 0.,  ..., 0., 0., 0.],\n",
            "        ...,\n",
            "        [0., 0., 0.,  ..., 0., 0., 1.],\n",
            "        [0., 0., 0.,  ..., 0., 0., 1.],\n",
            "        [0., 0., 0.,  ..., 0., 0., 1.]], device='cuda:0')\n",
            "Image shape: torch.Size([2000, 21])\n",
            "Image datatype: torch.float32\n",
            "Image label: 0\n",
            "Label datatype: <class 'int'>\n"
          ]
        }
      ]
    },
    {
      "cell_type": "code",
      "source": [
        "print(len(train_dataloader), len(test_dataloader))\n",
        "print(len(train_data), len(test_data))\n",
        "print()\n",
        "seq, label = next(iter(train_dataloader))\n",
        "print(f\"Image shape: {seq.shape} -> [batch_size, height, width]\")\n",
        "print(f\"Label shape: {label.shape}\")"
      ],
      "metadata": {
        "id": "GoG6u71dZnLh",
        "colab": {
          "base_uri": "https://localhost:8080/"
        },
        "outputId": "d0082a2f-c225-4bf7-cabd-47415cb02d7d"
      },
      "execution_count": null,
      "outputs": [
        {
          "output_type": "stream",
          "name": "stdout",
          "text": [
            "7 1\n",
            "99000 1100\n",
            "\n",
            "Image shape: torch.Size([16000, 2000, 21]) -> [batch_size, height, width]\n",
            "Label shape: torch.Size([16000])\n"
          ]
        }
      ]
    },
    {
      "cell_type": "markdown",
      "source": [
        "### Model 1 ###\n",
        "\n",
        "(taken from Deep_CNN_LSTM_Go paper, which this model is based off of)\n",
        "\n",
        "Difference between model 1 and model 0 is mainly use of validation set in this one\n",
        "\n",
        "\"\n",
        "*  First stage One Hot-Encoding is the input stage that takes an input of the amino-acid sequences, stacking each amino acid sequence in separate space which located lndex= 1 and the others is zeros. It employs one-hot encoding with a maximum amino-acid sequence input length of 2000 different symbols.\n",
        "\n",
        "* Second stage 1D-CNN is the convolutional neural network stage. It consists of eight parallel 1D-CNN architectures. These are constructed and built with the following number of filters:\n",
        "\n",
        "  1. 2000 - 7 = 1993\n",
        "  2. 1992 - 7 = 1985\n",
        "  3. 1984 - 7 = 1977\n",
        "  4. 1976 - 7 = 1969\n",
        "  5. 1968 - 7 = 1961\n",
        "  6. 1960 - 7 = 1953\n",
        "  7. 1952 - 7 = 1945\n",
        "  8. 1944 - 7 = 1937\n",
        "\n",
        "  The maximum kernel size (filter length) of 128 per filter is used.\n",
        "\n",
        "* Third Stage Max-Pooling is composed of eight Max-Pooling units attached to the outputs of the eight 1D-CNN blocks of the second stage. These units are constructed with a window size of 128.\n",
        "\n",
        "*  Fourth stage LSTM is allocated after each max-pooling unit. An LSTM stage is concatenated with a dimension of output space of size eight. It is activated with a \"tanh\" activation function.\n",
        "\n",
        "*  Fifth Stage Flatten All outputs from the LSTM stage are directed as inputs to each one of the eight Flatten blocks forming this stage.\n",
        "\n",
        "* Sixth stage output takes its inputs from the outputs of the eight blocks of the Flatten stage. It contains neurons activated with the Sigmoid activation function to add non-linearities to the output. The number of the output neurons is equal to the number of required functions of 10.\n",
        "\n",
        "\""
      ],
      "metadata": {
        "id": "tpjW6O6bxnGB"
      }
    },
    {
      "cell_type": "code",
      "source": [
        "class RMSI(nn.Module):\n",
        "    def __init__(self, num_classes=11):\n",
        "        super(RMSI, self).__init__()\n",
        "\n",
        "        self.num_classes = num_classes\n",
        "        self.filters = [21, 21, 21, 21, 21, 21, 21, 21]\n",
        "        self.kernel_size = 128\n",
        "        self.pool_size = 128\n",
        "        self.lstm_out_dim = 8\n",
        "        self.one_hot_size = 21\n",
        "\n",
        "        self.cnn_layers = nn.ModuleList([\n",
        "            nn.Sequential(\n",
        "                nn.Conv1d(self.one_hot_size,\n",
        "                          out_channels=f,\n",
        "                          kernel_size=self.kernel_size,\n",
        "                          stride=1),\n",
        "                nn.MaxPool1d(self.pool_size)\n",
        "            ) for f in self.filters\n",
        "        ])\n",
        "\n",
        "        self.lstm_layers = nn.ModuleList([nn.LSTM(input_size=f, hidden_size=self.lstm_out_dim) for f in self.filters])\n",
        "\n",
        "        self.flatten = nn.Flatten()\n",
        "        self.output_layer = nn.Sequential(\n",
        "            nn.Linear(self.lstm_out_dim * len(self.filters),\n",
        "                      self.num_classes),\n",
        "            nn.Sigmoid()\n",
        "        )\n",
        "\n",
        "    def forward(self, x):\n",
        "        cnn_outs = [cnn(x) for cnn in self.cnn_layers]\n",
        "        lstm_outs = [lstm(cnn_out.permute(2, 0, 1))[0][-1, :, :] for lstm, cnn_out in zip(self.lstm_layers, cnn_outs)]  # take output at last timestep only\n",
        "        concatenated = torch.cat(lstm_outs, dim=1)\n",
        "        flat_outs = self.flatten(concatenated)\n",
        "        out = self.output_layer(flat_outs)\n",
        "        return out\n"
      ],
      "metadata": {
        "id": "crqFXIDYubWj"
      },
      "execution_count": null,
      "outputs": []
    },
    {
      "cell_type": "code",
      "source": [
        "model_0 = RMSI(num_classes=11)\n",
        "\n",
        "# assuming you have input data in `inputs`\n",
        "# and targets in `targets`\n",
        "inputs = torch.randn(1, 21, 2000)  # batch_size=32, one_hot_size=21, sequence_length=2000\n",
        "targets = torch.randint(0, 2, (1, 11)).float()  # binary targets for 11 classes for a batch of 32\n",
        "\n",
        "outputs = model_0(inputs)\n",
        "loss = nn.BCELoss()(outputs, targets)  # binary cross-entropy loss for multi-label classification\n",
        "\n"
      ],
      "metadata": {
        "id": "8HBsWHoujpt5"
      },
      "execution_count": null,
      "outputs": []
    },
    {
      "cell_type": "code",
      "source": [
        "# Install torchinfo if it's not available, import it if it is\n",
        "#!pip install torchinfo\n",
        "try:\n",
        "    import torchinfo\n",
        "except:\n",
        "    !pip install torchinfo\n",
        "    import torchinfo\n",
        "\n",
        "from torchinfo import summary\n",
        "\n",
        "summary(model_0, input_size=(1, 21, 2000))\n",
        "# do a test pass through of an example input size"
      ],
      "metadata": {
        "id": "ThbWH9piMpq0",
        "colab": {
          "base_uri": "https://localhost:8080/"
        },
        "outputId": "abcac30e-e327-4ce5-f61f-ff989ad13a66"
      },
      "execution_count": null,
      "outputs": [
        {
          "output_type": "execute_result",
          "data": {
            "text/plain": [
              "==========================================================================================\n",
              "Layer (type:depth-idx)                   Output Shape              Param #\n",
              "==========================================================================================\n",
              "RMSI                                     [1, 11]                   --\n",
              "├─ModuleList: 1-1                        --                        --\n",
              "│    └─Sequential: 2-1                   [1, 21, 14]               --\n",
              "│    │    └─Conv1d: 3-1                  [1, 21, 1873]             56,469\n",
              "│    │    └─MaxPool1d: 3-2               [1, 21, 14]               --\n",
              "│    └─Sequential: 2-2                   [1, 21, 14]               --\n",
              "│    │    └─Conv1d: 3-3                  [1, 21, 1873]             56,469\n",
              "│    │    └─MaxPool1d: 3-4               [1, 21, 14]               --\n",
              "│    └─Sequential: 2-3                   [1, 21, 14]               --\n",
              "│    │    └─Conv1d: 3-5                  [1, 21, 1873]             56,469\n",
              "│    │    └─MaxPool1d: 3-6               [1, 21, 14]               --\n",
              "│    └─Sequential: 2-4                   [1, 21, 14]               --\n",
              "│    │    └─Conv1d: 3-7                  [1, 21, 1873]             56,469\n",
              "│    │    └─MaxPool1d: 3-8               [1, 21, 14]               --\n",
              "│    └─Sequential: 2-5                   [1, 21, 14]               --\n",
              "│    │    └─Conv1d: 3-9                  [1, 21, 1873]             56,469\n",
              "│    │    └─MaxPool1d: 3-10              [1, 21, 14]               --\n",
              "│    └─Sequential: 2-6                   [1, 21, 14]               --\n",
              "│    │    └─Conv1d: 3-11                 [1, 21, 1873]             56,469\n",
              "│    │    └─MaxPool1d: 3-12              [1, 21, 14]               --\n",
              "│    └─Sequential: 2-7                   [1, 21, 14]               --\n",
              "│    │    └─Conv1d: 3-13                 [1, 21, 1873]             56,469\n",
              "│    │    └─MaxPool1d: 3-14              [1, 21, 14]               --\n",
              "│    └─Sequential: 2-8                   [1, 21, 14]               --\n",
              "│    │    └─Conv1d: 3-15                 [1, 21, 1873]             56,469\n",
              "│    │    └─MaxPool1d: 3-16              [1, 21, 14]               --\n",
              "├─ModuleList: 1-2                        --                        --\n",
              "│    └─LSTM: 2-9                         [14, 1, 8]                992\n",
              "│    └─LSTM: 2-10                        [14, 1, 8]                992\n",
              "│    └─LSTM: 2-11                        [14, 1, 8]                992\n",
              "│    └─LSTM: 2-12                        [14, 1, 8]                992\n",
              "│    └─LSTM: 2-13                        [14, 1, 8]                992\n",
              "│    └─LSTM: 2-14                        [14, 1, 8]                992\n",
              "│    └─LSTM: 2-15                        [14, 1, 8]                992\n",
              "│    └─LSTM: 2-16                        [14, 1, 8]                992\n",
              "├─Flatten: 1-3                           [1, 64]                   --\n",
              "├─Sequential: 1-4                        [1, 11]                   --\n",
              "│    └─Linear: 2-17                      [1, 11]                   715\n",
              "│    └─Sigmoid: 2-18                     [1, 11]                   --\n",
              "==========================================================================================\n",
              "Total params: 460,403\n",
              "Trainable params: 460,403\n",
              "Non-trainable params: 0\n",
              "Total mult-adds (M): 846.24\n",
              "==========================================================================================\n",
              "Input size (MB): 0.17\n",
              "Forward/backward pass size (MB): 2.52\n",
              "Params size (MB): 1.84\n",
              "Estimated Total Size (MB): 4.53\n",
              "=========================================================================================="
            ]
          },
          "metadata": {},
          "execution_count": 15
        }
      ]
    },
    {
      "cell_type": "code",
      "source": [
        "# 1. Get a batch of images and labels from the DataLoader\n",
        "seq_batch, label_batch = next(iter(train_dataloader))\n",
        "seq_batch, label_batch = seq_batch.to(device), label_batch.to(device) # moving batch to GPU\n",
        "\n",
        "# 2. Get a single image from the batch and unsqueeze the image so its shape fits the model\n",
        "seq_single, label_single = seq_batch[0].unsqueeze(dim=0), label_batch[0]\n",
        "seq_single = torch.permute(seq_single, (0, 2, 1))\n",
        "#seq_single = seq_single.transpose(1, 2)  # This switches the sequence_length and num_channels dimensions\n",
        "seq_single = seq_single.float().to(device)  # Convert to float tensor before sending it to the device\n",
        "# Move the label tensor to the device\n",
        "label_single = label_single.to(device)\n",
        "print(f\"Single image shape: {seq_single.shape}\\n\")\n",
        "print(device)\n",
        "# 3. Perform a forward pass on a single image\n",
        "model_0 = model_0.to(device)\n",
        "model_0.eval()\n",
        "with torch.no_grad():\n",
        "  pred = model_0(seq_single)\n",
        "\n",
        "# 4. Print out what's happening and convert model logits -> pred probs -> pred label\n",
        "print(f\"Output logits:\\n{pred}\\n\")\n",
        "probs = torch.softmax(pred, dim=1)\n",
        "print(f\"Output prediction probabilities:\\n{probs}\\n\")\n",
        "print(f\"Output prediction label:\\n{torch.argmax(probs, dim=1)}\\n\")\n",
        "print(f\"Actual label:\\n{label_single}\")\n"
      ],
      "metadata": {
        "id": "Uw9yoqkf2NMG",
        "colab": {
          "base_uri": "https://localhost:8080/"
        },
        "outputId": "15d7b981-b259-452b-a711-a47dc67dd628"
      },
      "execution_count": null,
      "outputs": [
        {
          "output_type": "stream",
          "name": "stdout",
          "text": [
            "Single image shape: torch.Size([1, 21, 2000])\n",
            "\n",
            "cuda\n",
            "Output logits:\n",
            "tensor([[0.5504, 0.5156, 0.4720, 0.4889, 0.4849, 0.5142, 0.5238, 0.4770, 0.5234,\n",
            "         0.4670, 0.5093]], device='cuda:0')\n",
            "\n",
            "Output prediction probabilities:\n",
            "tensor([[0.0953, 0.0921, 0.0882, 0.0897, 0.0893, 0.0920, 0.0928, 0.0886, 0.0928,\n",
            "         0.0877, 0.0915]], device='cuda:0')\n",
            "\n",
            "Output prediction label:\n",
            "tensor([0], device='cuda:0')\n",
            "\n",
            "Actual label:\n",
            "1\n"
          ]
        }
      ]
    },
    {
      "cell_type": "code",
      "source": [
        "def train_step(model: torch.nn.Module,\n",
        "               dataloader: torch.utils.data.DataLoader,\n",
        "               loss_fn: torch.nn.Module,\n",
        "               optimizer: torch.optim.Optimizer):\n",
        "    # Put model in train mode\n",
        "    model.train()\n",
        "\n",
        "    # Setup train loss and train accuracy values\n",
        "    train_loss, train_acc = 0, 0\n",
        "\n",
        "    # Loop through data loader data batches\n",
        "    for batch, (X, y) in enumerate(dataloader):\n",
        "        # Send data to target device\n",
        "        X, y = X.float().to(device), y.to(device)\n",
        "        #Transpose so it fits\n",
        "        X = X.transpose(1, 2)\n",
        "\n",
        "        # 1. Forward pass\n",
        "        y_pred = model(X)\n",
        "\n",
        "        # 2. Calculate  and accumulate loss\n",
        "        loss = loss_fn(y_pred, y)\n",
        "        train_loss += loss.item()\n",
        "\n",
        "        # 3. Optimizer zero grad\n",
        "        optimizer.zero_grad()\n",
        "\n",
        "        # 4. Loss backward\n",
        "        loss.backward()\n",
        "\n",
        "        # 5. Optimizer step\n",
        "        optimizer.step()\n",
        "\n",
        "        # Calculate and accumulate accuracy metric across all batches\n",
        "        y_pred_class = torch.argmax(torch.softmax(y_pred, dim=1), dim=1)\n",
        "        train_acc += (y_pred_class == y).sum().item()/len(y_pred)\n",
        "\n",
        "    # Adjust metrics to get average loss and accuracy per batch\n",
        "    train_loss = train_loss / len(dataloader)\n",
        "    train_acc = train_acc / len(dataloader)\n",
        "    return train_loss, train_acc"
      ],
      "metadata": {
        "id": "rgWbaubS2NoE"
      },
      "execution_count": null,
      "outputs": []
    },
    {
      "cell_type": "code",
      "source": [
        "def validation_step(model: torch.nn.Module,\n",
        "                    dataloader: torch.utils.data.DataLoader,\n",
        "                    loss_fn: torch.nn.Module):\n",
        "    # Put model in eval mode\n",
        "    model.eval()\n",
        "\n",
        "    # Setup validation loss and validation accuracy values\n",
        "    validation_loss, validation_acc = 0, 0\n",
        "\n",
        "    # Turn on inference context manager\n",
        "    with torch.no_grad():\n",
        "        # Loop through DataLoader batches\n",
        "        for batch, (X, y) in enumerate(dataloader):\n",
        "            # Send data to target device\n",
        "            X, y = X.float().to(device), y.to(device)\n",
        "            #Transpose so it fits\n",
        "            X = X.transpose(1, 2)\n",
        "\n",
        "            # 1. Forward pass\n",
        "            validation_pred_logits = model(X)\n",
        "\n",
        "            # 2. Calculate and accumulate loss\n",
        "            loss = loss_fn(validation_pred_logits, y)\n",
        "            validation_loss += loss.item()\n",
        "\n",
        "            # Calculate and accumulate accuracy\n",
        "            validation_pred_labels = validation_pred_logits.argmax(dim=1)\n",
        "            validation_acc += ((validation_pred_labels == y).sum().item()/len(validation_pred_labels))\n",
        "\n",
        "    # Adjust metrics to get average loss and accuracy per batch\n",
        "    validation_loss = validation_loss / len(dataloader)\n",
        "    validation_acc = validation_acc / len(dataloader)\n",
        "    return validation_loss, validation_acc\n"
      ],
      "metadata": {
        "id": "5ROs5As4LQMs"
      },
      "execution_count": null,
      "outputs": []
    },
    {
      "cell_type": "code",
      "source": [
        "def test_step(model: torch.nn.Module,\n",
        "              dataloader: torch.utils.data.DataLoader,\n",
        "              loss_fn: torch.nn.Module):\n",
        "    # Put model in eval mode\n",
        "    model.eval()\n",
        "\n",
        "    # Setup test loss and test accuracy values\n",
        "    test_loss, test_acc = 0, 0\n",
        "\n",
        "    # Turn on inference context manager\n",
        "    with torch.inference_mode():\n",
        "        # Loop through DataLoader batches\n",
        "        for batch, (X, y) in enumerate(dataloader):\n",
        "            # Send data to target device\n",
        "            X, y = X.float().to(device), y.to(device)\n",
        "            #Transpose so it fits\n",
        "            X = X.transpose(1, 2)\n",
        "            # 1. Forward pass\n",
        "            test_pred_logits = model(X)\n",
        "\n",
        "            # 2. Calculate and accumulate loss\n",
        "            loss = loss_fn(test_pred_logits, y)\n",
        "            test_loss += loss.item()\n",
        "\n",
        "            # Calculate and accumulate accuracy\n",
        "            test_pred_labels = test_pred_logits.argmax(dim=1)\n",
        "            test_acc += ((test_pred_labels == y).sum().item()/len(test_pred_labels))\n",
        "\n",
        "    # Adjust metrics to get average loss and accuracy per batch\n",
        "    test_loss = test_loss / len(dataloader)\n",
        "    test_acc = test_acc / len(dataloader)\n",
        "    return test_loss, test_acc"
      ],
      "metadata": {
        "id": "DjZ6FSlK2Nr1"
      },
      "execution_count": null,
      "outputs": []
    },
    {
      "cell_type": "code",
      "source": [
        "from tqdm.auto import tqdm\n",
        "\n",
        "def train(model: torch.nn.Module,\n",
        "          train_dataloader: torch.utils.data.DataLoader,\n",
        "          val_dataloader: torch.utils.data.DataLoader,\n",
        "          test_dataloader: torch.utils.data.DataLoader,\n",
        "          optimizer: torch.optim.Optimizer,\n",
        "          loss_fn: torch.nn.Module = nn.CrossEntropyLoss(),\n",
        "          epochs: int = 5):\n",
        "\n",
        "    # Create empty results dictionary\n",
        "    results = {\n",
        "        \"train_loss\": [],\n",
        "        \"train_acc\": [],\n",
        "        \"validation_loss\": [],\n",
        "        \"validation_acc\": [],\n",
        "        \"test_loss\": [],\n",
        "        \"test_acc\": []\n",
        "    }\n",
        "\n",
        "    # Loop through training, validation, and testing steps for a number of epochs\n",
        "    for epoch in tqdm(range(epochs)):\n",
        "        train_loss, train_acc = train_step(model=model,\n",
        "                                           dataloader=train_dataloader,\n",
        "                                           loss_fn=loss_fn,\n",
        "                                           optimizer=optimizer)\n",
        "\n",
        "        validation_loss, validation_acc = validation_step(model=model,\n",
        "                                                          dataloader=val_dataloader,\n",
        "                                                          loss_fn=loss_fn)\n",
        "\n",
        "        test_loss, test_acc = test_step(model=model,\n",
        "            dataloader=test_dataloader,\n",
        "            loss_fn=loss_fn)\n",
        "\n",
        "        # Print out what's happening\n",
        "        print(\n",
        "            f\"Epoch: {epoch+1} | \"\n",
        "            f\"train_loss: {train_loss:.4f} | \"\n",
        "            f\"train_acc: {train_acc:.4f} | \"\n",
        "            f\"validation_loss: {validation_loss:.4f} | \"\n",
        "            f\"validation_acc: {validation_acc:.4f} | \"\n",
        "            f\"test_loss: {test_loss:.4f} | \"\n",
        "            f\"test_acc: {test_acc:.4f}\"\n",
        "        )\n",
        "\n",
        "        # Update results dictionary\n",
        "        results[\"train_loss\"].append(train_loss)\n",
        "        results[\"train_acc\"].append(train_acc)\n",
        "        results[\"validation_loss\"].append(validation_loss)\n",
        "        results[\"validation_acc\"].append(validation_acc)\n",
        "        results[\"test_loss\"].append(test_loss)\n",
        "        results[\"test_acc\"].append(test_acc)\n",
        "\n",
        "    # Return the filled results at the end of the epochs\n",
        "    return results\n"
      ],
      "metadata": {
        "id": "Sw1UieCeL7rj"
      },
      "execution_count": null,
      "outputs": []
    },
    {
      "cell_type": "code",
      "source": [
        "\n",
        "# Set number of epochs\n",
        "NUM_EPOCHS = 10\n",
        "\n",
        "# Setup loss function and optimizer\n",
        "loss_fn = nn.CrossEntropyLoss()\n",
        "optimizer = torch.optim.Adam(params=model_0.parameters(), lr=0.0001)\n",
        "\n",
        "# Start the timer\n",
        "from timeit import default_timer as timer\n",
        "start_time = timer()\n",
        "\n",
        "# Train model_0\n",
        "model_0_results = train(model=model_0,\n",
        "                        train_dataloader=train_dataloader,\n",
        "                        val_dataloader=val_dataloader,\n",
        "                        test_dataloader=test_dataloader,\n",
        "                        optimizer=optimizer,\n",
        "                        loss_fn=loss_fn,\n",
        "                        epochs=NUM_EPOCHS)\n",
        "\n",
        "# End the timer and print out how long it took\n",
        "end_time = timer()\n",
        "print(f\"Total training time: {end_time-start_time:.3f} seconds\")"
      ],
      "metadata": {
        "id": "fALCUMz93DkV",
        "colab": {
          "base_uri": "https://localhost:8080/",
          "height": 250,
          "referenced_widgets": [
            "35721beefd024d638c03f8578a2127dd",
            "cb1c736954e64000bea85188cf3f5cb8",
            "17ca28f545df4f0f83e9d8b25f1a1f5b",
            "b06482dd37034e9eb9e6d8de0de0ff65",
            "a69578ce8ce5430691532c7ca15b3a79",
            "4ca7f65361754deb9d1190b9d29f5289",
            "36a9c7264434480a8ec7c8c8de098a57",
            "6acbfbbe32024d8683656f8032b72df0",
            "c25d93763e004a9aa17f5c210930cd7a",
            "0f0ec006b062456c8ad4939932b18703",
            "9469e14084f846b9b7b560e147ee77ba"
          ]
        },
        "outputId": "9cafc794-65a6-45e8-e901-b6ca59ef9fb9"
      },
      "execution_count": null,
      "outputs": [
        {
          "output_type": "display_data",
          "data": {
            "text/plain": [
              "  0%|          | 0/10 [00:00<?, ?it/s]"
            ],
            "application/vnd.jupyter.widget-view+json": {
              "version_major": 2,
              "version_minor": 0,
              "model_id": "35721beefd024d638c03f8578a2127dd"
            }
          },
          "metadata": {}
        },
        {
          "output_type": "stream",
          "name": "stdout",
          "text": [
            "Epoch: 1 | train_loss: 1.5988 | train_acc: 0.9798 | validation_loss: 1.6381 | validation_acc: 0.9402 | test_loss: 1.6428 | test_acc: 0.9336\n",
            "Epoch: 2 | train_loss: 1.5971 | train_acc: 0.9807 | validation_loss: 1.6327 | validation_acc: 0.9422 | test_loss: 1.6391 | test_acc: 0.9309\n",
            "Epoch: 3 | train_loss: 1.5960 | train_acc: 0.9808 | validation_loss: 1.6350 | validation_acc: 0.9428 | test_loss: 1.6384 | test_acc: 0.9400\n",
            "Epoch: 4 | train_loss: 1.5954 | train_acc: 0.9811 | validation_loss: 1.6324 | validation_acc: 0.9430 | test_loss: 1.6389 | test_acc: 0.9364\n",
            "Epoch: 5 | train_loss: 1.5940 | train_acc: 0.9823 | validation_loss: 1.6319 | validation_acc: 0.9428 | test_loss: 1.6364 | test_acc: 0.9400\n",
            "Epoch: 6 | train_loss: 1.5933 | train_acc: 0.9825 | validation_loss: 1.6318 | validation_acc: 0.9446 | test_loss: 1.6364 | test_acc: 0.9409\n",
            "Epoch: 7 | train_loss: 1.5928 | train_acc: 0.9821 | validation_loss: 1.6311 | validation_acc: 0.9435 | test_loss: 1.6379 | test_acc: 0.9373\n",
            "Epoch: 8 | train_loss: 1.5912 | train_acc: 0.9833 | validation_loss: 1.6283 | validation_acc: 0.9458 | test_loss: 1.6335 | test_acc: 0.9418\n",
            "Epoch: 9 | train_loss: 1.5896 | train_acc: 0.9836 | validation_loss: 1.6285 | validation_acc: 0.9447 | test_loss: 1.6336 | test_acc: 0.9409\n",
            "Epoch: 10 | train_loss: 1.5885 | train_acc: 0.9844 | validation_loss: 1.6270 | validation_acc: 0.9448 | test_loss: 1.6339 | test_acc: 0.9400\n",
            "Total training time: 997.371 seconds\n"
          ]
        }
      ]
    },
    {
      "cell_type": "code",
      "source": [
        "import matplotlib.pyplot as plt\n",
        "\n",
        "def plot_loss_curves(results: Dict[str, List[float]]):\n",
        "    # Get the loss and accuracy values of the results dictionary\n",
        "    train_loss = results[\"train_loss\"]\n",
        "    validation_loss = results[\"validation_loss\"]\n",
        "    test_loss = results[\"test_loss\"]\n",
        "    train_acc = results[\"train_acc\"]\n",
        "    validation_acc = results[\"validation_acc\"]\n",
        "    test_acc = results[\"test_acc\"]\n",
        "\n",
        "    # Figure out how many epochs there were\n",
        "    epochs = range(len(train_loss))\n",
        "\n",
        "    # Setup a plot\n",
        "    plt.figure(figsize=(15,7))\n",
        "\n",
        "    # Plot the loss\n",
        "    plt.subplot(1,2,1)\n",
        "    plt.plot(epochs, train_loss, label=\"train_loss\")\n",
        "    plt.plot(epochs, validation_loss, label=\"validation_loss\")\n",
        "    plt.plot(epochs, test_loss, label=\"test_loss\")\n",
        "    plt.title(\"Loss\")\n",
        "    plt.xlabel(\"Epochs\")\n",
        "    plt.legend()\n",
        "\n",
        "    # Plot the accuracy\n",
        "    plt.subplot(1,2,2)\n",
        "    plt.plot(epochs, train_acc, label=\"train_accuracy\")\n",
        "    plt.plot(epochs, validation_acc, label=\"validation_accuracy\")\n",
        "    plt.plot(epochs, test_acc, label=\"test_accuracy\")\n",
        "    plt.title(\"Accuracy\")\n",
        "    plt.xlabel(\"Epoch\")\n",
        "    plt.legend();\n"
      ],
      "metadata": {
        "id": "n9T6V6KYdEdP"
      },
      "execution_count": null,
      "outputs": []
    },
    {
      "cell_type": "code",
      "source": [
        "plot_loss_curves(model_0_results)"
      ],
      "metadata": {
        "id": "rGVOXaPX09qg",
        "colab": {
          "base_uri": "https://localhost:8080/",
          "height": 641
        },
        "outputId": "c4b26755-1d73-4b5a-d985-2010d7d425dc"
      },
      "execution_count": null,
      "outputs": [
        {
          "output_type": "display_data",
          "data": {
            "text/plain": [
              "<Figure size 1500x700 with 2 Axes>"
            ],
            "image/png": "[encoded data removed]"
          },
          "metadata": {}
        }
      ]
    },
    {
      "cell_type": "code",
      "source": [
        "model_0_results.keys()"
      ],
      "metadata": {
        "id": "QxigC3E72NV0",
        "colab": {
          "base_uri": "https://localhost:8080/"
        },
        "outputId": "5e289341-b8c1-4774-a7db-07a16166d189"
      },
      "execution_count": null,
      "outputs": [
        {
          "output_type": "execute_result",
          "data": {
            "text/plain": [
              "dict_keys(['train_loss', 'train_acc', 'validation_loss', 'validation_acc', 'test_loss', 'test_acc'])"
            ]
          },
          "metadata": {},
          "execution_count": 54
        }
      ]
    },
    {
      "cell_type": "code",
      "source": [
        "try:\n",
        "    import torchmetrics, mlxtend\n",
        "    print(f\"mlxtend version: {mlxtend.__version__}\")\n",
        "    assert int(mlxtend.__version__.split(\".\")[1]) >= 19, \"mlxtend verison should be 0.19.0 or higher\"\n",
        "except:\n",
        "    !pip install -q torchmetrics -U mlxtend # <- Note: If you're using Google Colab, this may require restarting the runtime\n",
        "    import torchmetrics, mlxtend\n",
        "    print(f\"mlxtend version: {mlxtend.__version__}\")#"
      ],
      "metadata": {
        "id": "79n-4NfadKPO",
        "colab": {
          "base_uri": "https://localhost:8080/"
        },
        "outputId": "8d8455cf-88d1-4eb1-a471-74fe173c6717"
      },
      "execution_count": null,
      "outputs": [
        {
          "output_type": "stream",
          "name": "stdout",
          "text": [
            "mlxtend version: 0.22.0\n"
          ]
        }
      ]
    },
    {
      "cell_type": "code",
      "source": [
        "#Import tqdm.auto\n",
        "from tqdm.auto import tqdm\n",
        "\n",
        "#Make predictions with trained model\n",
        "y_preds = []\n",
        "model_0.eval()\n",
        "with torch.inference_mode():\n",
        "  for X, y in tqdm(test_dataloader, desc=\"Making predictions...\"):\n",
        "    #Send the data and targets to target device\n",
        "    X, y = X.to(device), y.to(device)\n",
        "    #Do the forward pass\n",
        "    X = X.permute(0, 2, 1)\n",
        "    y_logit = model_0(X)\n",
        "    #Turn predictions from logits -> prediction probabilities -> prediction labels\n",
        "    y_pred = torch.softmax(y_logit.squeeze(), dim=0).argmax(dim=1)\n",
        "    #Put prediction on CPU for evaluation\n",
        "    y_preds.append(y_pred.cpu())\n",
        "\n",
        "#print(y_preds)\n",
        "y_pred_tensor = torch.cat(y_preds)\n",
        "y_pred_tensor[:10]"
      ],
      "metadata": {
        "id": "T3R6XOax0tbt",
        "colab": {
          "base_uri": "https://localhost:8080/",
          "height": 67,
          "referenced_widgets": [
            "29e6feb8a97842b889aa4d1fca1571a3",
            "3af8340172e24eb29b3028a8be55e8dc",
            "02be23ca3adc4abfb5d1fcd2d090cbd8",
            "823077049c564656bcc214a5d849be8c",
            "28da9aa4d99d4c95acff3c7b539e3170",
            "2eb50eac00544b6b8d5d7872f6141302",
            "da2091f7fa0c4b8fb1779f9c194421e2",
            "26464198b557465b9ff4106b472f6fca",
            "09ab92ca7a084f23bcf218ef26dc99af",
            "0b6d64bbd4724cdb85082523117b1b1e",
            "4a82412a265b4b119ffab48ca4e26927"
          ]
        },
        "outputId": "20e19c4e-b843-401d-c1ce-8cba1fad7eba"
      },
      "execution_count": null,
      "outputs": [
        {
          "output_type": "display_data",
          "data": {
            "text/plain": [
              "Making predictions...:   0%|          | 0/1 [00:00<?, ?it/s]"
            ],
            "application/vnd.jupyter.widget-view+json": {
              "version_major": 2,
              "version_minor": 0,
              "model_id": "29e6feb8a97842b889aa4d1fca1571a3"
            }
          },
          "metadata": {}
        },
        {
          "output_type": "execute_result",
          "data": {
            "text/plain": [
              "tensor([0, 0, 0, 0, 0, 0, 0, 0, 0, 0])"
            ]
          },
          "metadata": {},
          "execution_count": 62
        }
      ]
    },
    {
      "cell_type": "code",
      "source": [
        "from torchmetrics import ConfusionMatrix\n",
        "from tqdm.auto import tqdm\n",
        "from mlxtend.plotting import plot_confusion_matrix\n",
        "\n",
        "\n",
        "# Setup confusion matrix instance and compare predictions to targets\n",
        "confmat = ConfusionMatrix(num_classes=len(class_dict), task='multiclass')\n",
        "confmat_tensor = confmat(preds=y_pred_tensor,\n",
        "                         target=torch.tensor(test_data.labels))  # use .labels instead of .targets\n",
        "\n",
        "# 3. Plot the confusion matrix\n",
        "fig, ax = plot_confusion_matrix(\n",
        "    conf_mat=confmat_tensor.numpy(), # matplotlib likes working with NumPy\n",
        "    class_names=class_dict, # turn the row and column labels into class names\n",
        "    figsize=(10, 7)\n",
        ")\n",
        "\n"
      ],
      "metadata": {
        "id": "FYZN6Qald0ut",
        "colab": {
          "base_uri": "https://localhost:8080/",
          "height": 849
        },
        "outputId": "0164f63a-55c0-4848-d4e0-850a17c19a0c"
      },
      "execution_count": null,
      "outputs": [
        {
          "output_type": "display_data",
          "data": {
            "text/plain": [
              "<Figure size 1000x700 with 1 Axes>"
            ],
            "image/png": "[encoded data removed]"
          },
          "metadata": {}
        }
      ]
    },
    {
      "cell_type": "code",
      "source": [
        "from matplotlib import pyplot as plt\n",
        "from sklearn.metrics import confusion_matrix, classification_report\n",
        "import pandas as pd\n",
        "# Assuming \"model\" is your trained model, \"test_loader\" is your test data loader\n",
        "\n",
        "model_0.eval()\n",
        "\n",
        "true_labels = []\n",
        "predicted_labels = []\n",
        "\n",
        "with torch.no_grad():\n",
        "    for data, labels in test_dataloader:\n",
        "        data, labels = data.to(device), labels.to(device)\n",
        "        data = data.permute(0, 2, 1)\n",
        "        outputs = model_0(data)\n",
        "        _, predicted = torch.max(outputs, 1)\n",
        "\n",
        "        true_labels.extend(labels.cpu().numpy())\n",
        "        predicted_labels.extend(predicted.cpu().numpy())\n",
        "\n",
        "print(classification_report(true_labels, predicted_labels))\n"
      ],
      "metadata": {
        "id": "YyKJWbSyhw0U",
        "colab": {
          "base_uri": "https://localhost:8080/"
        },
        "outputId": "7ce15b4a-b2b6-413e-b770-9d8a0f1463c0"
      },
      "execution_count": null,
      "outputs": [
        {
          "output_type": "stream",
          "name": "stdout",
          "text": [
            "              precision    recall  f1-score   support\n",
            "\n",
            "           0       0.20      0.97      0.33       100\n",
            "           1       0.00      0.00      0.00       100\n",
            "           2       1.00      0.04      0.08       100\n",
            "           3       0.91      0.84      0.87       100\n",
            "           4       0.75      0.44      0.55       100\n",
            "           5       0.25      0.86      0.39       100\n",
            "           6       0.00      0.00      0.00       100\n",
            "           7       1.00      0.69      0.82       100\n",
            "           8       1.00      0.02      0.04       100\n",
            "           9       0.00      0.00      0.00       100\n",
            "          10       1.00      0.35      0.52       100\n",
            "\n",
            "    accuracy                           0.38      1100\n",
            "   macro avg       0.55      0.38      0.33      1100\n",
            "weighted avg       0.55      0.38      0.33      1100\n",
            "\n"
          ]
        },
        {
          "output_type": "stream",
          "name": "stderr",
          "text": [
            "/usr/local/lib/python3.10/dist-packages/sklearn/metrics/_classification.py:1344: UndefinedMetricWarning: Precision and F-score are ill-defined and being set to 0.0 in labels with no predicted samples. Use `zero_division` parameter to control this behavior.\n",
            "  _warn_prf(average, modifier, msg_start, len(result))\n",
            "/usr/local/lib/python3.10/dist-packages/sklearn/metrics/_classification.py:1344: UndefinedMetricWarning: Precision and F-score are ill-defined and being set to 0.0 in labels with no predicted samples. Use `zero_division` parameter to control this behavior.\n",
            "  _warn_prf(average, modifier, msg_start, len(result))\n",
            "/usr/local/lib/python3.10/dist-packages/sklearn/metrics/_classification.py:1344: UndefinedMetricWarning: Precision and F-score are ill-defined and being set to 0.0 in labels with no predicted samples. Use `zero_division` parameter to control this behavior.\n",
            "  _warn_prf(average, modifier, msg_start, len(result))\n"
          ]
        }
      ]
    }
  ]
}